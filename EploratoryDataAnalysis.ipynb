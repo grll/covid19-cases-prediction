{
 "cells": [
  {
   "cell_type": "markdown",
   "metadata": {},
   "source": [
    "# COVID-19: Exploratory Data Analysis.\n",
    "\n",
    "In this notebook you will find a brief data anaylsis of the covid-19 cases in Switzerland.\n",
    "\n",
    "After essential data analysis is performed an attempt at dfining and fitting a poisson regression model is done and using logistic regression on the percentage of the population is also proposed. After several trial the exponential terms in the poisson regression leads to numeric instability. Another notebook present another approach consisting in fitting well known growth model.\n",
    "\n",
    "The dataset comes from: https://github.com/daenuprobst/covid19-cases-switzerland"
   ]
  },
  {
   "cell_type": "code",
   "execution_count": 78,
   "metadata": {},
   "outputs": [],
   "source": [
    "# usual imports\n",
    "from datetime import date, timedelta\n",
    "\n",
    "import pandas as pd\n",
    "import matplotlib.pyplot as plt\n",
    "import matplotlib.dates as mdates\n",
    "import numpy as np\n",
    "from sklearn.linear_model import PoissonRegressor\n",
    "from scipy.optimize import minimize\n",
    "from sklearn.preprocessing import MinMaxScaler\n",
    "\n",
    "%matplotlib inline"
   ]
  },
  {
   "cell_type": "markdown",
   "metadata": {},
   "source": [
    "## Exploratory Data Analysis (EDA)"
   ]
  },
  {
   "cell_type": "code",
   "execution_count": 2,
   "metadata": {},
   "outputs": [
    {
     "data": {
      "text/html": [
       "<div>\n",
       "<style scoped>\n",
       "    .dataframe tbody tr th:only-of-type {\n",
       "        vertical-align: middle;\n",
       "    }\n",
       "\n",
       "    .dataframe tbody tr th {\n",
       "        vertical-align: top;\n",
       "    }\n",
       "\n",
       "    .dataframe thead th {\n",
       "        text-align: right;\n",
       "    }\n",
       "</style>\n",
       "<table border=\"1\" class=\"dataframe\">\n",
       "  <thead>\n",
       "    <tr style=\"text-align: right;\">\n",
       "      <th></th>\n",
       "      <th>AG</th>\n",
       "      <th>AI</th>\n",
       "      <th>AR</th>\n",
       "      <th>BE</th>\n",
       "      <th>BL</th>\n",
       "      <th>BS</th>\n",
       "      <th>FR</th>\n",
       "      <th>GE</th>\n",
       "      <th>GL</th>\n",
       "      <th>GR</th>\n",
       "      <th>...</th>\n",
       "      <th>SO</th>\n",
       "      <th>SZ</th>\n",
       "      <th>TG</th>\n",
       "      <th>TI</th>\n",
       "      <th>UR</th>\n",
       "      <th>VD</th>\n",
       "      <th>VS</th>\n",
       "      <th>ZG</th>\n",
       "      <th>ZH</th>\n",
       "      <th>CH</th>\n",
       "    </tr>\n",
       "    <tr>\n",
       "      <th>Date</th>\n",
       "      <th></th>\n",
       "      <th></th>\n",
       "      <th></th>\n",
       "      <th></th>\n",
       "      <th></th>\n",
       "      <th></th>\n",
       "      <th></th>\n",
       "      <th></th>\n",
       "      <th></th>\n",
       "      <th></th>\n",
       "      <th></th>\n",
       "      <th></th>\n",
       "      <th></th>\n",
       "      <th></th>\n",
       "      <th></th>\n",
       "      <th></th>\n",
       "      <th></th>\n",
       "      <th></th>\n",
       "      <th></th>\n",
       "      <th></th>\n",
       "      <th></th>\n",
       "    </tr>\n",
       "  </thead>\n",
       "  <tbody>\n",
       "    <tr>\n",
       "      <th>2020-02-25</th>\n",
       "      <td>NaN</td>\n",
       "      <td>NaN</td>\n",
       "      <td>NaN</td>\n",
       "      <td>NaN</td>\n",
       "      <td>NaN</td>\n",
       "      <td>NaN</td>\n",
       "      <td>NaN</td>\n",
       "      <td>NaN</td>\n",
       "      <td>NaN</td>\n",
       "      <td>NaN</td>\n",
       "      <td>...</td>\n",
       "      <td>NaN</td>\n",
       "      <td>NaN</td>\n",
       "      <td>NaN</td>\n",
       "      <td>1.0</td>\n",
       "      <td>NaN</td>\n",
       "      <td>NaN</td>\n",
       "      <td>NaN</td>\n",
       "      <td>NaN</td>\n",
       "      <td>NaN</td>\n",
       "      <td>1.0</td>\n",
       "    </tr>\n",
       "    <tr>\n",
       "      <th>2020-02-26</th>\n",
       "      <td>NaN</td>\n",
       "      <td>NaN</td>\n",
       "      <td>NaN</td>\n",
       "      <td>NaN</td>\n",
       "      <td>NaN</td>\n",
       "      <td>NaN</td>\n",
       "      <td>NaN</td>\n",
       "      <td>1.0</td>\n",
       "      <td>NaN</td>\n",
       "      <td>NaN</td>\n",
       "      <td>...</td>\n",
       "      <td>NaN</td>\n",
       "      <td>NaN</td>\n",
       "      <td>NaN</td>\n",
       "      <td>NaN</td>\n",
       "      <td>NaN</td>\n",
       "      <td>NaN</td>\n",
       "      <td>NaN</td>\n",
       "      <td>NaN</td>\n",
       "      <td>NaN</td>\n",
       "      <td>2.0</td>\n",
       "    </tr>\n",
       "    <tr>\n",
       "      <th>2020-02-27</th>\n",
       "      <td>NaN</td>\n",
       "      <td>NaN</td>\n",
       "      <td>NaN</td>\n",
       "      <td>NaN</td>\n",
       "      <td>NaN</td>\n",
       "      <td>0.0</td>\n",
       "      <td>NaN</td>\n",
       "      <td>1.0</td>\n",
       "      <td>NaN</td>\n",
       "      <td>NaN</td>\n",
       "      <td>...</td>\n",
       "      <td>NaN</td>\n",
       "      <td>NaN</td>\n",
       "      <td>NaN</td>\n",
       "      <td>NaN</td>\n",
       "      <td>NaN</td>\n",
       "      <td>NaN</td>\n",
       "      <td>NaN</td>\n",
       "      <td>NaN</td>\n",
       "      <td>1.0</td>\n",
       "      <td>3.0</td>\n",
       "    </tr>\n",
       "    <tr>\n",
       "      <th>2020-02-28</th>\n",
       "      <td>1.0</td>\n",
       "      <td>NaN</td>\n",
       "      <td>NaN</td>\n",
       "      <td>NaN</td>\n",
       "      <td>1.0</td>\n",
       "      <td>0.0</td>\n",
       "      <td>NaN</td>\n",
       "      <td>3.0</td>\n",
       "      <td>NaN</td>\n",
       "      <td>NaN</td>\n",
       "      <td>...</td>\n",
       "      <td>NaN</td>\n",
       "      <td>NaN</td>\n",
       "      <td>NaN</td>\n",
       "      <td>NaN</td>\n",
       "      <td>NaN</td>\n",
       "      <td>NaN</td>\n",
       "      <td>1.0</td>\n",
       "      <td>NaN</td>\n",
       "      <td>2.0</td>\n",
       "      <td>9.0</td>\n",
       "    </tr>\n",
       "    <tr>\n",
       "      <th>2020-02-29</th>\n",
       "      <td>NaN</td>\n",
       "      <td>NaN</td>\n",
       "      <td>NaN</td>\n",
       "      <td>NaN</td>\n",
       "      <td>2.0</td>\n",
       "      <td>0.0</td>\n",
       "      <td>NaN</td>\n",
       "      <td>5.0</td>\n",
       "      <td>NaN</td>\n",
       "      <td>NaN</td>\n",
       "      <td>...</td>\n",
       "      <td>NaN</td>\n",
       "      <td>NaN</td>\n",
       "      <td>NaN</td>\n",
       "      <td>NaN</td>\n",
       "      <td>NaN</td>\n",
       "      <td>NaN</td>\n",
       "      <td>1.0</td>\n",
       "      <td>NaN</td>\n",
       "      <td>NaN</td>\n",
       "      <td>12.0</td>\n",
       "    </tr>\n",
       "  </tbody>\n",
       "</table>\n",
       "<p>5 rows × 27 columns</p>\n",
       "</div>"
      ],
      "text/plain": [
       "             AG  AI  AR  BE   BL   BS  FR   GE  GL  GR  ...  SO  SZ  TG   TI  \\\n",
       "Date                                                    ...                    \n",
       "2020-02-25  NaN NaN NaN NaN  NaN  NaN NaN  NaN NaN NaN  ... NaN NaN NaN  1.0   \n",
       "2020-02-26  NaN NaN NaN NaN  NaN  NaN NaN  1.0 NaN NaN  ... NaN NaN NaN  NaN   \n",
       "2020-02-27  NaN NaN NaN NaN  NaN  0.0 NaN  1.0 NaN NaN  ... NaN NaN NaN  NaN   \n",
       "2020-02-28  1.0 NaN NaN NaN  1.0  0.0 NaN  3.0 NaN NaN  ... NaN NaN NaN  NaN   \n",
       "2020-02-29  NaN NaN NaN NaN  2.0  0.0 NaN  5.0 NaN NaN  ... NaN NaN NaN  NaN   \n",
       "\n",
       "            UR  VD   VS  ZG   ZH    CH  \n",
       "Date                                    \n",
       "2020-02-25 NaN NaN  NaN NaN  NaN   1.0  \n",
       "2020-02-26 NaN NaN  NaN NaN  NaN   2.0  \n",
       "2020-02-27 NaN NaN  NaN NaN  1.0   3.0  \n",
       "2020-02-28 NaN NaN  1.0 NaN  2.0   9.0  \n",
       "2020-02-29 NaN NaN  1.0 NaN  NaN  12.0  \n",
       "\n",
       "[5 rows x 27 columns]"
      ]
     },
     "execution_count": 2,
     "metadata": {},
     "output_type": "execute_result"
    }
   ],
   "source": [
    "# retrieve the cases data from github\n",
    "url = \"https://raw.githubusercontent.com/daenuprobst/covid19-cases-switzerland/master/covid19_cases_switzerland_openzh.csv\"\n",
    "covid19_cases = pd.read_csv(url, parse_dates=['Date'], index_col='Date')\n",
    "covid19_cases.head()"
   ]
  },
  {
   "cell_type": "code",
   "execution_count": 3,
   "metadata": {},
   "outputs": [
    {
     "data": {
      "text/plain": [
       "True"
      ]
     },
     "execution_count": 3,
     "metadata": {},
     "output_type": "execute_result"
    }
   ],
   "source": [
    "# check if the index is_unique\n",
    "covid19_cases.index.is_unique"
   ]
  },
  {
   "cell_type": "code",
   "execution_count": 4,
   "metadata": {},
   "outputs": [
    {
     "data": {
      "text/plain": [
       "(34, 27)"
      ]
     },
     "execution_count": 4,
     "metadata": {},
     "output_type": "execute_result"
    }
   ],
   "source": [
    "# check the dimensionality of the data\n",
    "covid19_cases.shape"
   ]
  },
  {
   "cell_type": "code",
   "execution_count": 5,
   "metadata": {},
   "outputs": [
    {
     "data": {
      "text/html": [
       "<div>\n",
       "<style scoped>\n",
       "    .dataframe tbody tr th:only-of-type {\n",
       "        vertical-align: middle;\n",
       "    }\n",
       "\n",
       "    .dataframe tbody tr th {\n",
       "        vertical-align: top;\n",
       "    }\n",
       "\n",
       "    .dataframe thead th {\n",
       "        text-align: right;\n",
       "    }\n",
       "</style>\n",
       "<table border=\"1\" class=\"dataframe\">\n",
       "  <thead>\n",
       "    <tr style=\"text-align: right;\">\n",
       "      <th></th>\n",
       "      <th>AG</th>\n",
       "      <th>AI</th>\n",
       "      <th>AR</th>\n",
       "      <th>BE</th>\n",
       "      <th>BL</th>\n",
       "      <th>BS</th>\n",
       "      <th>FR</th>\n",
       "      <th>GE</th>\n",
       "      <th>GL</th>\n",
       "      <th>GR</th>\n",
       "      <th>...</th>\n",
       "      <th>SO</th>\n",
       "      <th>SZ</th>\n",
       "      <th>TG</th>\n",
       "      <th>TI</th>\n",
       "      <th>UR</th>\n",
       "      <th>VD</th>\n",
       "      <th>VS</th>\n",
       "      <th>ZG</th>\n",
       "      <th>ZH</th>\n",
       "      <th>CH</th>\n",
       "    </tr>\n",
       "  </thead>\n",
       "  <tbody>\n",
       "    <tr>\n",
       "      <th>count</th>\n",
       "      <td>22.000000</td>\n",
       "      <td>9.000000</td>\n",
       "      <td>11.000000</td>\n",
       "      <td>12.000000</td>\n",
       "      <td>31.00000</td>\n",
       "      <td>31.000000</td>\n",
       "      <td>25.000000</td>\n",
       "      <td>33.000000</td>\n",
       "      <td>9.000000</td>\n",
       "      <td>9.000000</td>\n",
       "      <td>...</td>\n",
       "      <td>10.000000</td>\n",
       "      <td>11.000000</td>\n",
       "      <td>14.000000</td>\n",
       "      <td>22.000000</td>\n",
       "      <td>10.000000</td>\n",
       "      <td>23.000000</td>\n",
       "      <td>30.000000</td>\n",
       "      <td>11.000000</td>\n",
       "      <td>25.000000</td>\n",
       "      <td>34.000000</td>\n",
       "    </tr>\n",
       "    <tr>\n",
       "      <th>mean</th>\n",
       "      <td>110.090909</td>\n",
       "      <td>7.777778</td>\n",
       "      <td>26.818182</td>\n",
       "      <td>496.833333</td>\n",
       "      <td>139.16129</td>\n",
       "      <td>179.354839</td>\n",
       "      <td>132.200000</td>\n",
       "      <td>642.575758</td>\n",
       "      <td>29.444444</td>\n",
       "      <td>262.111111</td>\n",
       "      <td>...</td>\n",
       "      <td>109.900000</td>\n",
       "      <td>55.545455</td>\n",
       "      <td>75.071429</td>\n",
       "      <td>726.409091</td>\n",
       "      <td>20.600000</td>\n",
       "      <td>1037.869565</td>\n",
       "      <td>253.566667</td>\n",
       "      <td>45.818182</td>\n",
       "      <td>518.680000</td>\n",
       "      <td>3749.647059</td>\n",
       "    </tr>\n",
       "    <tr>\n",
       "      <th>std</th>\n",
       "      <td>126.208033</td>\n",
       "      <td>3.800585</td>\n",
       "      <td>18.476029</td>\n",
       "      <td>224.853825</td>\n",
       "      <td>169.40663</td>\n",
       "      <td>201.857466</td>\n",
       "      <td>142.731683</td>\n",
       "      <td>782.675820</td>\n",
       "      <td>16.696640</td>\n",
       "      <td>97.260532</td>\n",
       "      <td>...</td>\n",
       "      <td>60.061913</td>\n",
       "      <td>56.154009</td>\n",
       "      <td>40.700528</td>\n",
       "      <td>611.268288</td>\n",
       "      <td>16.614585</td>\n",
       "      <td>996.202713</td>\n",
       "      <td>311.008669</td>\n",
       "      <td>36.515252</td>\n",
       "      <td>636.038306</td>\n",
       "      <td>4953.953248</td>\n",
       "    </tr>\n",
       "    <tr>\n",
       "      <th>min</th>\n",
       "      <td>1.000000</td>\n",
       "      <td>2.000000</td>\n",
       "      <td>1.000000</td>\n",
       "      <td>123.000000</td>\n",
       "      <td>1.00000</td>\n",
       "      <td>0.000000</td>\n",
       "      <td>1.000000</td>\n",
       "      <td>1.000000</td>\n",
       "      <td>0.000000</td>\n",
       "      <td>116.000000</td>\n",
       "      <td>...</td>\n",
       "      <td>1.000000</td>\n",
       "      <td>1.000000</td>\n",
       "      <td>17.000000</td>\n",
       "      <td>1.000000</td>\n",
       "      <td>2.000000</td>\n",
       "      <td>23.000000</td>\n",
       "      <td>1.000000</td>\n",
       "      <td>1.000000</td>\n",
       "      <td>1.000000</td>\n",
       "      <td>1.000000</td>\n",
       "    </tr>\n",
       "    <tr>\n",
       "      <th>25%</th>\n",
       "      <td>12.500000</td>\n",
       "      <td>5.000000</td>\n",
       "      <td>8.000000</td>\n",
       "      <td>353.250000</td>\n",
       "      <td>10.50000</td>\n",
       "      <td>11.500000</td>\n",
       "      <td>16.000000</td>\n",
       "      <td>13.000000</td>\n",
       "      <td>17.000000</td>\n",
       "      <td>213.000000</td>\n",
       "      <td>...</td>\n",
       "      <td>73.250000</td>\n",
       "      <td>7.500000</td>\n",
       "      <td>39.250000</td>\n",
       "      <td>259.750000</td>\n",
       "      <td>7.000000</td>\n",
       "      <td>132.000000</td>\n",
       "      <td>6.250000</td>\n",
       "      <td>13.000000</td>\n",
       "      <td>30.000000</td>\n",
       "      <td>57.000000</td>\n",
       "    </tr>\n",
       "    <tr>\n",
       "      <th>50%</th>\n",
       "      <td>42.000000</td>\n",
       "      <td>8.000000</td>\n",
       "      <td>33.000000</td>\n",
       "      <td>501.000000</td>\n",
       "      <td>47.00000</td>\n",
       "      <td>92.000000</td>\n",
       "      <td>59.000000</td>\n",
       "      <td>173.000000</td>\n",
       "      <td>33.000000</td>\n",
       "      <td>266.000000</td>\n",
       "      <td>...</td>\n",
       "      <td>116.500000</td>\n",
       "      <td>13.000000</td>\n",
       "      <td>78.000000</td>\n",
       "      <td>574.500000</td>\n",
       "      <td>17.000000</td>\n",
       "      <td>608.000000</td>\n",
       "      <td>87.000000</td>\n",
       "      <td>48.000000</td>\n",
       "      <td>140.000000</td>\n",
       "      <td>921.000000</td>\n",
       "    </tr>\n",
       "    <tr>\n",
       "      <th>75%</th>\n",
       "      <td>216.000000</td>\n",
       "      <td>11.000000</td>\n",
       "      <td>43.000000</td>\n",
       "      <td>674.500000</td>\n",
       "      <td>285.50000</td>\n",
       "      <td>328.500000</td>\n",
       "      <td>226.000000</td>\n",
       "      <td>1262.000000</td>\n",
       "      <td>43.000000</td>\n",
       "      <td>322.000000</td>\n",
       "      <td>...</td>\n",
       "      <td>153.000000</td>\n",
       "      <td>109.000000</td>\n",
       "      <td>106.500000</td>\n",
       "      <td>1199.500000</td>\n",
       "      <td>34.750000</td>\n",
       "      <td>1802.000000</td>\n",
       "      <td>475.750000</td>\n",
       "      <td>76.000000</td>\n",
       "      <td>1068.000000</td>\n",
       "      <td>7140.250000</td>\n",
       "    </tr>\n",
       "    <tr>\n",
       "      <th>max</th>\n",
       "      <td>364.000000</td>\n",
       "      <td>13.000000</td>\n",
       "      <td>48.000000</td>\n",
       "      <td>798.000000</td>\n",
       "      <td>511.00000</td>\n",
       "      <td>609.000000</td>\n",
       "      <td>442.000000</td>\n",
       "      <td>2283.000000</td>\n",
       "      <td>47.000000</td>\n",
       "      <td>409.000000</td>\n",
       "      <td>...</td>\n",
       "      <td>190.000000</td>\n",
       "      <td>128.000000</td>\n",
       "      <td>138.000000</td>\n",
       "      <td>1837.000000</td>\n",
       "      <td>48.000000</td>\n",
       "      <td>2936.000000</td>\n",
       "      <td>964.000000</td>\n",
       "      <td>101.000000</td>\n",
       "      <td>1758.000000</td>\n",
       "      <td>14895.000000</td>\n",
       "    </tr>\n",
       "  </tbody>\n",
       "</table>\n",
       "<p>8 rows × 27 columns</p>\n",
       "</div>"
      ],
      "text/plain": [
       "               AG         AI         AR          BE         BL          BS  \\\n",
       "count   22.000000   9.000000  11.000000   12.000000   31.00000   31.000000   \n",
       "mean   110.090909   7.777778  26.818182  496.833333  139.16129  179.354839   \n",
       "std    126.208033   3.800585  18.476029  224.853825  169.40663  201.857466   \n",
       "min      1.000000   2.000000   1.000000  123.000000    1.00000    0.000000   \n",
       "25%     12.500000   5.000000   8.000000  353.250000   10.50000   11.500000   \n",
       "50%     42.000000   8.000000  33.000000  501.000000   47.00000   92.000000   \n",
       "75%    216.000000  11.000000  43.000000  674.500000  285.50000  328.500000   \n",
       "max    364.000000  13.000000  48.000000  798.000000  511.00000  609.000000   \n",
       "\n",
       "               FR           GE         GL          GR  ...          SO  \\\n",
       "count   25.000000    33.000000   9.000000    9.000000  ...   10.000000   \n",
       "mean   132.200000   642.575758  29.444444  262.111111  ...  109.900000   \n",
       "std    142.731683   782.675820  16.696640   97.260532  ...   60.061913   \n",
       "min      1.000000     1.000000   0.000000  116.000000  ...    1.000000   \n",
       "25%     16.000000    13.000000  17.000000  213.000000  ...   73.250000   \n",
       "50%     59.000000   173.000000  33.000000  266.000000  ...  116.500000   \n",
       "75%    226.000000  1262.000000  43.000000  322.000000  ...  153.000000   \n",
       "max    442.000000  2283.000000  47.000000  409.000000  ...  190.000000   \n",
       "\n",
       "               SZ          TG           TI         UR           VD  \\\n",
       "count   11.000000   14.000000    22.000000  10.000000    23.000000   \n",
       "mean    55.545455   75.071429   726.409091  20.600000  1037.869565   \n",
       "std     56.154009   40.700528   611.268288  16.614585   996.202713   \n",
       "min      1.000000   17.000000     1.000000   2.000000    23.000000   \n",
       "25%      7.500000   39.250000   259.750000   7.000000   132.000000   \n",
       "50%     13.000000   78.000000   574.500000  17.000000   608.000000   \n",
       "75%    109.000000  106.500000  1199.500000  34.750000  1802.000000   \n",
       "max    128.000000  138.000000  1837.000000  48.000000  2936.000000   \n",
       "\n",
       "               VS          ZG           ZH            CH  \n",
       "count   30.000000   11.000000    25.000000     34.000000  \n",
       "mean   253.566667   45.818182   518.680000   3749.647059  \n",
       "std    311.008669   36.515252   636.038306   4953.953248  \n",
       "min      1.000000    1.000000     1.000000      1.000000  \n",
       "25%      6.250000   13.000000    30.000000     57.000000  \n",
       "50%     87.000000   48.000000   140.000000    921.000000  \n",
       "75%    475.750000   76.000000  1068.000000   7140.250000  \n",
       "max    964.000000  101.000000  1758.000000  14895.000000  \n",
       "\n",
       "[8 rows x 27 columns]"
      ]
     },
     "execution_count": 5,
     "metadata": {},
     "output_type": "execute_result"
    }
   ],
   "source": [
    "# show basic statistics\n",
    "covid19_cases.describe()"
   ]
  },
  {
   "cell_type": "markdown",
   "metadata": {},
   "source": [
    "#### observations:\n",
    "- the dataset is composed of the cumulative count of positive cases of covid19 in each canton and an aggregation of that value in a CH column. (check really cumulative / CH well aggregated)\n",
    "- the count is given per day where it seems that one row corresponds to a day (to check).\n",
    "- when no cases has been reported we observe a nan value.\n",
    "- the data start with the assumed first cases on 2020-02-25 and span up until the current day."
   ]
  },
  {
   "cell_type": "code",
   "execution_count": 6,
   "metadata": {},
   "outputs": [
    {
     "data": {
      "image/png": "[encoded data removed]",
      "text/plain": [
       "<Figure size 1584x576 with 1 Axes>"
      ]
     },
     "metadata": {
      "needs_background": "light"
     },
     "output_type": "display_data"
    }
   ],
   "source": [
    "# comparison of `CH` column with the sum of each canton at a given day\n",
    "canton_sum = covid19_cases.drop('CH', axis=1).sum(axis=1)\n",
    "ch_col = covid19_cases['CH']\n",
    "\n",
    "# plot the results\n",
    "fig = plt.figure(figsize=[22,8])\n",
    "ax = plt.subplot(111)\n",
    "\n",
    "ax.plot(ch_col.index, ch_col.values, marker='x', label='CH column')\n",
    "ax.plot(canton_sum.index, canton_sum.values, marker='x', label='SUM of cantons')\n",
    "\n",
    "plt.title('CH column vs SUM of cantons')\n",
    "ax.legend()\n",
    "plt.xticks(ch_col.index, rotation=90)\n",
    "ax.xaxis.set_major_formatter(mdates.DateFormatter('%Y-%m-%d'))\n",
    "plt.show()"
   ]
  },
  {
   "cell_type": "markdown",
   "metadata": {},
   "source": [
    "#### observations:\n",
    "- Eventhough the sum of all canton and the CH column seems to follow the same trend there is a *disparity* between the value. \n",
    "- According to the dataset source, each column come from an individual source which can explain why they are note exactly matching.\n",
    "- the sum of the canton cases goes down at some point which should not be possible as it is cumulative.\n",
    "- data from the current day seems to not be reliable.\n",
    "\n",
    "---\n",
    "\n",
    "#### takeaways:\n",
    "- If working with the individual canton we would need to clean consecutive day going negative.\n",
    "- To simplify the problem we will work and consider the data from 'CH' as the truth to work on our prediction."
   ]
  },
  {
   "cell_type": "markdown",
   "metadata": {},
   "source": [
    "## Preparing the Data\n",
    "\n",
    "I will now focus only on the `CH` column from one day earlier than the current day as it looks much cleaner and seems to follow the cumulative number of cases.\n",
    "\n",
    "Then, I will present several modeling techniques and apply them to the data.\n"
   ]
  },
  {
   "cell_type": "code",
   "execution_count": 7,
   "metadata": {},
   "outputs": [
    {
     "data": {
      "image/png": "[encoded data removed]",
      "text/plain": [
       "<Figure size 1584x576 with 2 Axes>"
      ]
     },
     "metadata": {
      "needs_background": "light"
     },
     "output_type": "display_data"
    }
   ],
   "source": [
    "# select the data of interest (CH col from 1 day earlier)\n",
    "data_ch = covid19_cases['CH'].loc[:date.today() - timedelta(days=1)]\n",
    "\n",
    "# plot the results\n",
    "fig = plt.figure(figsize=[22,8])\n",
    "\n",
    "ax = plt.subplot(121)\n",
    "ax.plot(data_ch.index, data_ch.values, marker='x', label='# of positive cases in CH')\n",
    "ax.legend()\n",
    "ax.xaxis.set_major_formatter(mdates.DateFormatter('%Y-%m-%d'))\n",
    "plt.xticks(data_ch.index, rotation=90)\n",
    "plt.title('# of positive cases in CH (linear scale)')\n",
    "plt.grid(True)\n",
    "\n",
    "\n",
    "ax2 = plt.subplot(122)\n",
    "ax2.semilogy(data_ch.index, data_ch.values, marker='x', label='# of positive cases in CH')\n",
    "ax2.semilogy(data_ch.index,[1.32 ** i for i in range(1,len(data_ch.index) + 1)], ls='--', c='grey', label='growth rate of R=1.32')\n",
    "ax2.legend()\n",
    "ax2.xaxis.set_major_formatter(mdates.DateFormatter('%Y-%m-%d'))\n",
    "plt.xticks(data_ch.index, rotation=90)\n",
    "plt.title('# of positive cases in CH (semi-log scale)')\n",
    "plt.grid(True)\n",
    "           \n",
    "plt.show()"
   ]
  },
  {
   "cell_type": "markdown",
   "metadata": {},
   "source": [
    "#### observations:\n",
    "\n",
    "- As expected, the trend seems to follow an exponential growth in linear scale.\n",
    "- Hence a more or less \"linear\" trend in log scale.\n",
    "\n",
    "\n",
    "> Observations following an exponential growth and corresponding to fixed numbers, can be model by a Poisson Distribution.\n",
    "\n",
    "---\n",
    "\n",
    "To check that the Poisson distribution assumption would be a good fit for our data we can also look at the count of **new cases** per day:\n",
    "\n",
    "- what distribution the count of new cases per day look like?\n",
    "- since we have only 1 feature (previous count of cases) do we have a linear relationship with our response (current count of cases)?"
   ]
  },
  {
   "cell_type": "code",
   "execution_count": 163,
   "metadata": {},
   "outputs": [
    {
     "data": {
      "text/html": [
       "<div>\n",
       "<style scoped>\n",
       "    .dataframe tbody tr th:only-of-type {\n",
       "        vertical-align: middle;\n",
       "    }\n",
       "\n",
       "    .dataframe tbody tr th {\n",
       "        vertical-align: top;\n",
       "    }\n",
       "\n",
       "    .dataframe thead th {\n",
       "        text-align: right;\n",
       "    }\n",
       "</style>\n",
       "<table border=\"1\" class=\"dataframe\">\n",
       "  <thead>\n",
       "    <tr style=\"text-align: right;\">\n",
       "      <th></th>\n",
       "      <th>CH</th>\n",
       "      <th>new_cases</th>\n",
       "    </tr>\n",
       "    <tr>\n",
       "      <th>Date</th>\n",
       "      <th></th>\n",
       "      <th></th>\n",
       "    </tr>\n",
       "  </thead>\n",
       "  <tbody>\n",
       "    <tr>\n",
       "      <th>2020-02-25</th>\n",
       "      <td>1.0</td>\n",
       "      <td>1.0</td>\n",
       "    </tr>\n",
       "    <tr>\n",
       "      <th>2020-02-26</th>\n",
       "      <td>2.0</td>\n",
       "      <td>1.0</td>\n",
       "    </tr>\n",
       "    <tr>\n",
       "      <th>2020-02-27</th>\n",
       "      <td>3.0</td>\n",
       "      <td>1.0</td>\n",
       "    </tr>\n",
       "    <tr>\n",
       "      <th>2020-02-28</th>\n",
       "      <td>9.0</td>\n",
       "      <td>6.0</td>\n",
       "    </tr>\n",
       "    <tr>\n",
       "      <th>2020-02-29</th>\n",
       "      <td>12.0</td>\n",
       "      <td>3.0</td>\n",
       "    </tr>\n",
       "  </tbody>\n",
       "</table>\n",
       "</div>"
      ],
      "text/plain": [
       "              CH  new_cases\n",
       "Date                       \n",
       "2020-02-25   1.0        1.0\n",
       "2020-02-26   2.0        1.0\n",
       "2020-02-27   3.0        1.0\n",
       "2020-02-28   9.0        6.0\n",
       "2020-02-29  12.0        3.0"
      ]
     },
     "execution_count": 163,
     "metadata": {},
     "output_type": "execute_result"
    }
   ],
   "source": [
    "# check now the individual new cases\n",
    "df_ch = data_ch.to_frame()\n",
    "df_ch['new_cases'] = data_ch.diff().fillna(data_ch)\n",
    "df_ch.head()"
   ]
  },
  {
   "cell_type": "code",
   "execution_count": 168,
   "metadata": {},
   "outputs": [
    {
     "data": {
      "image/png": "[encoded data removed]",
      "text/plain": [
       "<Figure size 1584x576 with 1 Axes>"
      ]
     },
     "metadata": {
      "needs_background": "light"
     },
     "output_type": "display_data"
    }
   ],
   "source": [
    "# plot the results\n",
    "fig = plt.figure(figsize=[22,8])\n",
    "ax = plt.subplot(111)\n",
    "\n",
    "ax.stem(df_ch.new_cases.index, df_ch.new_cases.values, label='new_cases')\n",
    "\n",
    "plt.title('new cases per day')\n",
    "ax.legend()\n",
    "plt.xticks(ch_col.index, rotation=90)\n",
    "ax.xaxis.set_major_formatter(mdates.DateFormatter('%Y-%m-%d'))\n",
    "plt.grid(True)\n",
    "plt.show()"
   ]
  },
  {
   "cell_type": "markdown",
   "metadata": {},
   "source": [
    "#### observation:\n",
    "- We observe a non-gaussian, left skewed distribution of new cases per day.\n",
    "\n",
    "Let's see now if we can observe the linear relationship between the previous number of cases and the new number."
   ]
  },
  {
   "cell_type": "code",
   "execution_count": 201,
   "metadata": {},
   "outputs": [
    {
     "data": {
      "image/png": "[encoded data removed]",
      "text/plain": [
       "<Figure size 432x288 with 1 Axes>"
      ]
     },
     "metadata": {
      "needs_background": "light"
     },
     "output_type": "display_data"
    }
   ],
   "source": [
    "# case 1. the features are the new cases per day.\n",
    "X = df_ch.new_cases.shift().iloc[1:]\n",
    "y = df_ch.new_cases.iloc[1:]\n",
    "\n",
    "\n",
    "plt.scatter(X.values, y.values);"
   ]
  },
  {
   "cell_type": "code",
   "execution_count": 208,
   "metadata": {},
   "outputs": [
    {
     "data": {
      "image/png": "[encoded data removed]",
      "text/plain": [
       "<Figure size 432x288 with 1 Axes>"
      ]
     },
     "metadata": {
      "needs_background": "light"
     },
     "output_type": "display_data"
    }
   ],
   "source": [
    "# try with another covariate (the total number of cases on the previous day)\n",
    "X = df_ch.CH.shift().iloc[1:]\n",
    "plt.scatter(X.values, y.values);"
   ]
  },
  {
   "cell_type": "code",
   "execution_count": 210,
   "metadata": {},
   "outputs": [
    {
     "data": {
      "image/png": "[encoded data removed]",
      "text/plain": [
       "<Figure size 432x288 with 1 Axes>"
      ]
     },
     "metadata": {
      "needs_background": "light"
     },
     "output_type": "display_data"
    }
   ],
   "source": [
    "y = df_ch.new_cases.shift(-1).iloc[:-1]\n",
    "X = df_ch.new_cases.iloc[:-1]\n",
    "\n",
    "plt.scatter(X.values, np.log(y.values));"
   ]
  },
  {
   "cell_type": "markdown",
   "metadata": {},
   "source": [
    "## Modeling\n",
    "\n",
    "A first attempt at modeling the number of cases will be a simple poisson auto-regression based on the case from the previous day.\n",
    "\n",
    "#### theory behind the model (skippable)\n",
    "\n",
    "This section set the theoretical grounds for applying a Generalized Linear Model (GLM) on the observed data.\n",
    "\n",
    "**setup**\n",
    "\n",
    "For each day $i$, we observe **independent** pairs of random variables $(X_i, Y_i) \\in \\mathbb{R}^2 \\times \\mathbb{R}$ where we assume that $Y_i | X_i = x_i \\sim Poisson(\\lambda_i)$. \n",
    "\n",
    "In particular $X_i$ will correspond to a vector with a 1 and the number of cases observed on day $i-1$ and $Y_i$ will correspond to the number of case observed on day $i$.\n",
    "\n",
    "> <u>Poisson Distribution as an exponential family</u><br>\n",
    "The probability mass function (pmf) of a Poisson random variable $Y$ w.r.t $\\lambda$ can be written as: $p_Y(y) = \\frac{\\lambda^y  e^{-\\lambda}}{y!}$.<br>\n",
    "Hence, we can rewrite it as a pmf from a *canonical exponential family*: $p_Y(y) = exp[y\\ln{\\lambda}-\\lambda+\\ln{y!}]$.<br>\n",
    "and consider $\\theta = \\ln{\\lambda}$ our canonical parameter with $b(\\theta) = \\lambda = e^{\\theta}$.<br>\n",
    "note that in this case the dispersion parameter $\\phi = 1$.\n",
    "\n",
    "Since for a poisson random variable $Y$, $\\mathbb{E}[Y] = \\lambda$. We have the **canonical link $g$** defined in this case as $g(\\lambda) = \\theta$ and by identification $g$ is the **log link**.\n",
    "\n",
    "We can now put ourselves in a GLM case by setting $g(\\lambda_i) = X_i^T \\beta$ and since $g$ is the canonical link we have $\\theta_i = X_i^T \\beta$ with $\\beta \\in \\mathbb{R}^2$ our vector of parameters to fit on the observations.\n",
    "\n",
    "Finally, putting ourselves in the GLM case for data following a Poisson Distribution means that we assume to observe $Y_i | X_i = x_i \\sim Poisson(e^{X_i^T \\beta})$.\n",
    "\n",
    "**log-likelihood**\n",
    "\n",
    "Maximizing the log-likelihood of this model will correspond to maximize for each observation the pmf described above with the assumption that $\\theta_i = X_i^T \\beta$:\n",
    "\n",
    "$$\\max_{\\beta} \\sum_i Y_i X_i^T \\beta - e^{X_i^T \\beta}$$\n",
    "\n",
    "Fortunatly, since we chose $g$ as the canonical link function and our dispersion parameter $\\phi$ is 1 we are guaranteed to have **strict concavity** as long as our design matrix has a rank equal to the number of features which in our case is easly achieved since we have very few features (only the previous number of cases) and a lot more of observations."
   ]
  },
  {
   "cell_type": "markdown",
   "metadata": {},
   "source": [
    "### preparing the data for the model\n",
    "\n",
    "I will now prepare the data for the model and then perform the poisson regression using two approaches, the one from sklearn and my own method.\n",
    "\n",
    "#### data preparation\n",
    "\n",
    "- For sklearn, the data needs to be splitted into X with the observation (day $i-1$) and y the observed number of case on day $i$.\n",
    "- For scipy, we will need to add a column of 1 in the design matrix X in order to have an intercept $\\beta_0$."
   ]
  },
  {
   "cell_type": "code",
   "execution_count": 114,
   "metadata": {},
   "outputs": [],
   "source": [
    "# data for sklearn\n",
    "X = data_ch.iloc[:-1]\n",
    "y = data_ch.iloc[1:]"
   ]
  },
  {
   "cell_type": "code",
   "execution_count": 115,
   "metadata": {},
   "outputs": [
    {
     "data": {
      "text/plain": [
       "Date\n",
       "2020-02-25        1.0\n",
       "2020-02-26        2.0\n",
       "2020-02-27        3.0\n",
       "2020-02-28        9.0\n",
       "2020-02-29       12.0\n",
       "2020-03-01       17.0\n",
       "2020-03-02       23.0\n",
       "2020-03-03       41.0\n",
       "2020-03-04       49.0\n",
       "2020-03-05       81.0\n",
       "2020-03-06      132.0\n",
       "2020-03-07      168.0\n",
       "2020-03-08      204.0\n",
       "2020-03-09      244.0\n",
       "2020-03-10      319.0\n",
       "2020-03-11      394.0\n",
       "2020-03-12      759.0\n",
       "2020-03-13     1083.0\n",
       "2020-03-14     1398.0\n",
       "2020-03-15     1605.0\n",
       "2020-03-16     2239.0\n",
       "2020-03-17     2778.0\n",
       "2020-03-18     3801.0\n",
       "2020-03-19     5024.0\n",
       "2020-03-20     6526.0\n",
       "2020-03-21     7345.0\n",
       "2020-03-22     7947.0\n",
       "2020-03-23     9051.0\n",
       "2020-03-24    10040.0\n",
       "2020-03-25    11063.0\n",
       "2020-03-26    12257.0\n",
       "2020-03-27    13483.0\n",
       "Name: CH, dtype: float64"
      ]
     },
     "execution_count": 115,
     "metadata": {},
     "output_type": "execute_result"
    }
   ],
   "source": [
    "X"
   ]
  },
  {
   "cell_type": "code",
   "execution_count": 85,
   "metadata": {},
   "outputs": [],
   "source": [
    "scaler = MinMaxScaler() \n",
    "X_scaled = scaler.fit_transform(X.values.reshape(-1,1), y.values.reshape(-1,1))"
   ]
  },
  {
   "cell_type": "code",
   "execution_count": 119,
   "metadata": {},
   "outputs": [],
   "source": [
    "X_scaled = np.log(X.values.reshape(-1,1))"
   ]
  },
  {
   "cell_type": "code",
   "execution_count": 142,
   "metadata": {},
   "outputs": [
    {
     "data": {
      "text/plain": [
       "Date\n",
       "2020-02-26      2.0\n",
       "2020-02-27      3.0\n",
       "2020-02-28      9.0\n",
       "2020-02-29     12.0\n",
       "2020-03-01     17.0\n",
       "2020-03-02     23.0\n",
       "2020-03-03     41.0\n",
       "2020-03-04     49.0\n",
       "2020-03-05     81.0\n",
       "2020-03-06    132.0\n",
       "Name: CH, dtype: float64"
      ]
     },
     "execution_count": 142,
     "metadata": {},
     "output_type": "execute_result"
    }
   ],
   "source": [
    "# data for scipy\n",
    "y.iloc[:10]"
   ]
  },
  {
   "cell_type": "code",
   "execution_count": 148,
   "metadata": {},
   "outputs": [
    {
     "data": {
      "text/plain": [
       "PoissonRegressor(alpha=0, fit_intercept=True, max_iter=1000, tol=0.0001,\n",
       "                 verbose=0, warm_start=False)"
      ]
     },
     "execution_count": 148,
     "metadata": {},
     "output_type": "execute_result"
    }
   ],
   "source": [
    "#### sklearn PoissonRegressor\n",
    "poisson_lm = PoissonRegressor(alpha=0, max_iter=1000, fit_intercept=True)\n",
    "poisson_lm.fit(X_scaled[:16,:], y.iloc[:16])"
   ]
  },
  {
   "cell_type": "code",
   "execution_count": 149,
   "metadata": {},
   "outputs": [
    {
     "data": {
      "text/plain": [
       "array([1.04170131])"
      ]
     },
     "execution_count": 149,
     "metadata": {},
     "output_type": "execute_result"
    }
   ],
   "source": [
    "poisson_lm.coef_"
   ]
  },
  {
   "cell_type": "code",
   "execution_count": 150,
   "metadata": {},
   "outputs": [
    {
     "data": {
      "text/plain": [
       "0.1474938954609193"
      ]
     },
     "execution_count": 150,
     "metadata": {},
     "output_type": "execute_result"
    }
   ],
   "source": [
    "poisson_lm.intercept_"
   ]
  },
  {
   "cell_type": "code",
   "execution_count": 151,
   "metadata": {},
   "outputs": [],
   "source": [
    "y_pred = poisson_lm.predict(X_scaled)"
   ]
  },
  {
   "cell_type": "code",
   "execution_count": 152,
   "metadata": {},
   "outputs": [
    {
     "data": {
      "image/png": "[encoded data removed]",
      "text/plain": [
       "<Figure size 1584x576 with 1 Axes>"
      ]
     },
     "metadata": {
      "needs_background": "light"
     },
     "output_type": "display_data"
    }
   ],
   "source": [
    "# plot the results\n",
    "fig = plt.figure(figsize=[22,8])\n",
    "\n",
    "ax = plt.subplot(111)\n",
    "ax.plot(y.index, y_pred, marker='x', label='# of positive predicted cases in CH')\n",
    "ax.plot(y.index,y, marker='x', c='grey', label='real')\n",
    "ax.legend()\n",
    "ax.xaxis.set_major_formatter(mdates.DateFormatter('%Y-%m-%d'))\n",
    "plt.xticks(y.index, rotation=90)\n",
    "plt.title('# of positive cases in CH (linear scale)')\n",
    "plt.grid(True)\n",
    "           \n",
    "plt.show()"
   ]
  },
  {
   "cell_type": "code",
   "execution_count": null,
   "metadata": {},
   "outputs": [],
   "source": [
    "# select the data of interest (CH col from 1 day earlier)\n",
    "data_ch = covid19_cases['CH'].loc[:date.today() - timedelta(days=1)]\n",
    "\n",
    "# plot the results\n",
    "fig = plt.figure(figsize=[22,8])\n",
    "\n",
    "ax = plt.subplot(121)\n",
    "ax.plot(data_ch.index, data_ch.values, marker='x', label='# of positive cases in CH')\n",
    "ax.legend()\n",
    "ax.xaxis.set_major_formatter(mdates.DateFormatter('%Y-%m-%d'))\n",
    "plt.xticks(data_ch.index, rotation=90)\n",
    "plt.title('# of positive cases in CH (linear scale)')\n",
    "plt.grid(True)\n",
    "\n",
    "\n",
    "ax2 = plt.subplot(122)\n",
    "ax2.semilogy(data_ch.index, data_ch.values, marker='x', label='# of positive cases in CH')\n",
    "ax2.semilogy(data_ch.index,[1.32 ** i for i in range(1,len(data_ch.index) + 1)], ls='--', c='grey', label='growth rate of R=1.32')\n",
    "ax2.legend()\n",
    "ax2.xaxis.set_major_formatter(mdates.DateFormatter('%Y-%m-%d'))\n",
    "plt.xticks(data_ch.index, rotation=90)\n",
    "plt.title('# of positive cases in CH (semi-log scale)')\n",
    "plt.grid(True)\n",
    "           \n",
    "plt.show()"
   ]
  },
  {
   "cell_type": "code",
   "execution_count": 23,
   "metadata": {},
   "outputs": [
    {
     "data": {
      "text/plain": [
       "Date\n",
       "2020-02-26        2.0\n",
       "2020-02-27        3.0\n",
       "2020-02-28        9.0\n",
       "2020-02-29       12.0\n",
       "2020-03-01       17.0\n",
       "2020-03-02       23.0\n",
       "2020-03-03       41.0\n",
       "2020-03-04       49.0\n",
       "2020-03-05       81.0\n",
       "2020-03-06      132.0\n",
       "2020-03-07      168.0\n",
       "2020-03-08      204.0\n",
       "2020-03-09      244.0\n",
       "2020-03-10      319.0\n",
       "2020-03-11      394.0\n",
       "2020-03-12      759.0\n",
       "2020-03-13     1083.0\n",
       "2020-03-14     1398.0\n",
       "2020-03-15     1605.0\n",
       "2020-03-16     2239.0\n",
       "2020-03-17     2778.0\n",
       "2020-03-18     3801.0\n",
       "2020-03-19     5024.0\n",
       "2020-03-20     6526.0\n",
       "2020-03-21     7345.0\n",
       "2020-03-22     7947.0\n",
       "2020-03-23     9051.0\n",
       "2020-03-24    10040.0\n",
       "2020-03-25    11063.0\n",
       "2020-03-26    12257.0\n",
       "2020-03-27    13483.0\n",
       "2020-03-28    14495.0\n",
       "Name: CH, dtype: float64"
      ]
     },
     "execution_count": 23,
     "metadata": {},
     "output_type": "execute_result"
    }
   ],
   "source": [
    "#### scipy Home made Poisson Regression\n",
    "y"
   ]
  },
  {
   "cell_type": "code",
   "execution_count": 87,
   "metadata": {},
   "outputs": [
    {
     "data": {
      "text/plain": [
       "32"
      ]
     },
     "execution_count": 87,
     "metadata": {},
     "output_type": "execute_result"
    }
   ],
   "source": [
    "len(X_scaled)"
   ]
  },
  {
   "cell_type": "code",
   "execution_count": 123,
   "metadata": {},
   "outputs": [],
   "source": [
    "y_reshaped = y.values.reshape(-1,1)\n",
    "\n",
    "a = np.array([1.0] * len(X_scaled)).reshape(-1,1)\n",
    "b = X_scaled\n",
    "X_reshaped = np.concatenate((a, b), axis=1)\n",
    "\n",
    "def negloglikelihood(beta):\n",
    "    \"\"\" return the loglikelihood of the Poisson GLM described above.\n",
    "    \n",
    "    params:\n",
    "        - beta: vector of weight of shape 2,1\n",
    "    \"\"\"\n",
    "    \n",
    "    t = np.matmul(X_reshaped, beta)\n",
    "    return -np.sum(y_reshaped * t - np.exp(t))\n",
    "    "
   ]
  },
  {
   "cell_type": "code",
   "execution_count": 126,
   "metadata": {},
   "outputs": [
    {
     "data": {
      "text/plain": [
       "898472.830619683"
      ]
     },
     "execution_count": 126,
     "metadata": {},
     "output_type": "execute_result"
    }
   ],
   "source": [
    "- negloglikelihood(np.array([[0.86],[0.91]]))"
   ]
  },
  {
   "cell_type": "code",
   "execution_count": 69,
   "metadata": {},
   "outputs": [
    {
     "data": {
      "text/plain": [
       "-32.0"
      ]
     },
     "execution_count": 69,
     "metadata": {},
     "output_type": "execute_result"
    }
   ],
   "source": [
    "beta_0 = np.array([[0],[0]])\n",
    "loglikelihood(beta_0)"
   ]
  },
  {
   "cell_type": "code",
   "execution_count": 124,
   "metadata": {},
   "outputs": [
    {
     "data": {
      "text/plain": [
       "      fun: -25817940.234945662\n",
       " hess_inv: array([[ 1.57594860e-06, -2.17548914e-07],\n",
       "       [-2.17548914e-07,  3.64939448e-08]])\n",
       "      jac: array([0., 0.])\n",
       "  message: 'Optimization terminated successfully.'\n",
       "     nfev: 84\n",
       "      nit: 12\n",
       "     njev: 21\n",
       "   status: 0\n",
       "  success: True\n",
       "        x: array([ 8.16579019e+00, -2.69838255e-08])"
      ]
     },
     "execution_count": 124,
     "metadata": {},
     "output_type": "execute_result"
    }
   ],
   "source": [
    "beta_0 = np.array([[0],[0]])\n",
    "minimize(negloglikelihood, beta_0)"
   ]
  },
  {
   "cell_type": "code",
   "execution_count": 107,
   "metadata": {},
   "outputs": [
    {
     "data": {
      "text/plain": [
       "1.0142320547350045e+304"
      ]
     },
     "execution_count": 107,
     "metadata": {},
     "output_type": "execute_result"
    }
   ],
   "source": [
    "np.exp(700)"
   ]
  },
  {
   "cell_type": "code",
   "execution_count": 108,
   "metadata": {},
   "outputs": [
    {
     "data": {
      "text/plain": [
       "(array([-10,  -9,  -8,  -7,  -6,  -5,  -4,  -3,  -2,  -1,   0,   1,   2,\n",
       "          3,   4,   5,   6,   7,   8,   9,  10]),\n",
       " array([0.19447532, 0.25585576, 0.32224364, 0.3899795 , 0.46414843,\n",
       "        0.54304484, 0.62656653, 0.71596064, 0.81097583, 0.90832388,\n",
       "        1.        , 0.90832388, 0.81097583, 0.71596064, 0.62656653,\n",
       "        0.54304484, 0.46414843, 0.3899795 , 0.32224364, 0.25585576,\n",
       "        0.19447532]),\n",
       " <matplotlib.collections.LineCollection at 0x1a2aaecda0>,\n",
       " <matplotlib.lines.Line2D at 0x1a29c73470>)"
      ]
     },
     "execution_count": 108,
     "metadata": {},
     "output_type": "execute_result"
    },
    {
     "data": {
      "image/png": "[encoded data removed]",
      "text/plain": [
       "<Figure size 432x288 with 1 Axes>"
      ]
     },
     "metadata": {
      "needs_background": "light"
     },
     "output_type": "display_data"
    }
   ],
   "source": [
    "plt.acorr(ch_col)"
   ]
  },
  {
   "cell_type": "code",
   "execution_count": 113,
   "metadata": {},
   "outputs": [
    {
     "data": {
      "text/plain": [
       "Date\n",
       "2020-02-25    1.166861e-07\n",
       "2020-02-26    2.333722e-07\n",
       "2020-02-27    3.500583e-07\n",
       "2020-02-28    1.050175e-06\n",
       "2020-02-29    1.400233e-06\n",
       "2020-03-01    1.983664e-06\n",
       "2020-03-02    2.683781e-06\n",
       "2020-03-03    4.784131e-06\n",
       "2020-03-04    5.717620e-06\n",
       "2020-03-05    9.451575e-06\n",
       "2020-03-06    1.540257e-05\n",
       "2020-03-07    1.960327e-05\n",
       "2020-03-08    2.380397e-05\n",
       "2020-03-09    2.847141e-05\n",
       "2020-03-10    3.722287e-05\n",
       "2020-03-11    4.597433e-05\n",
       "2020-03-12    8.856476e-05\n",
       "2020-03-13    1.263711e-04\n",
       "2020-03-14    1.631272e-04\n",
       "2020-03-15    1.872812e-04\n",
       "2020-03-16    2.612602e-04\n",
       "2020-03-17    3.241540e-04\n",
       "2020-03-18    4.435239e-04\n",
       "2020-03-19    5.862310e-04\n",
       "2020-03-20    7.614936e-04\n",
       "2020-03-21    8.570595e-04\n",
       "2020-03-22    9.273046e-04\n",
       "2020-03-23    1.056126e-03\n",
       "2020-03-24    1.171529e-03\n",
       "2020-03-25    1.290898e-03\n",
       "2020-03-26    1.430222e-03\n",
       "2020-03-27    1.573279e-03\n",
       "Name: CH, dtype: float64"
      ]
     },
     "execution_count": 113,
     "metadata": {},
     "output_type": "execute_result"
    }
   ],
   "source": [
    "# logistic regression to find the percentage of population touched ? easier\n",
    "total_pop = 8.57e+6\n",
    "X.apply(lambda row: row/total_pop)"
   ]
  }
 ],
 "metadata": {
  "kernelspec": {
   "display_name": "Python 3",
   "language": "python",
   "name": "python3"
  },
  "language_info": {
   "codemirror_mode": {
    "name": "ipython",
    "version": 3
   },
   "file_extension": ".py",
   "mimetype": "text/x-python",
   "name": "python",
   "nbconvert_exporter": "python",
   "pygments_lexer": "ipython3",
   "version": "3.6.8"
  }
 },
 "nbformat": 4,
 "nbformat_minor": 2
}
